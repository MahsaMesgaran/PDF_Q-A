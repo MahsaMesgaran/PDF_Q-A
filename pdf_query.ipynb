{
 "cells": [
  {
   "cell_type": "code",
   "execution_count": 1,
   "metadata": {},
   "outputs": [],
   "source": [
    "!pip install -q cassio datasets langchain openai tiktoken\n",
    "!pip install -q pycryptodome\n",
    "!pip install -q PyPDF2"
   ]
  },
  {
   "cell_type": "markdown",
   "metadata": {},
   "source": [
    "# PDF Query"
   ]
  },
  {
   "cell_type": "markdown",
   "metadata": {},
   "source": [
    "![alternatvie text](https://miro.medium.com/v2/resize:fit:828/format:webp/1*jMAGouB3s_LA1YoslX5Z_A.png)"
   ]
  },
  {
   "cell_type": "code",
   "execution_count": 3,
   "metadata": {},
   "outputs": [
    {
     "name": "stderr",
     "output_type": "stream",
     "text": [
      "c:\\Users\\mahsa\\Langchain\\venv\\lib\\site-packages\\tqdm\\auto.py:21: TqdmWarning: IProgress not found. Please update jupyter and ipywidgets. See https://ipywidgets.readthedocs.io/en/stable/user_install.html\n",
      "  from .autonotebook import tqdm as notebook_tqdm\n"
     ]
    }
   ],
   "source": [
    "# libraris to connect to Cassendra db and perform tasks like text embeddings creating and storing vectors\n",
    "from langchain.vectorstores.cassandra import Cassandra\n",
    "# to wrap all thoes vectores in one specif package\n",
    "from langchain.indexes.vectorstore import VectorStoreIndexWrapper\n",
    "from langchain.llms import OpenAI\n",
    "from langchain.embeddings import OpenAIEmbeddings\n",
    "\n",
    "# Support for dataset retrieval from Hugging Face\n",
    "from datasets import load_dataset\n",
    "\n",
    "# To integrate Astra Db in LAngchain, and initialize the DB  connection\n",
    "import cassio\n",
    "\n",
    "from PyPDF2 import PdfReader"
   ]
  },
  {
   "cell_type": "markdown",
   "metadata": {},
   "source": [
    "# Setup"
   ]
  },
  {
   "cell_type": "code",
   "execution_count": 4,
   "metadata": {},
   "outputs": [],
   "source": [
    "# These two first ids are used to connect to ASTRA DB, which has a cassandra db hosted over there in the cloud\n",
    "ASTRA_DB_APPLICATION_TOKEN = \"AstraCS:UX ...\"\n",
    "ASTRA_DB_ID = \"...\"\n",
    "\n",
    "OPENAI_API_KEY = \"sk-...\""
   ]
  },
  {
   "cell_type": "code",
   "execution_count": 5,
   "metadata": {},
   "outputs": [],
   "source": [
    "pdfreader = PdfReader(\"BudgetSpeech_2017.pdf\")"
   ]
  },
  {
   "cell_type": "markdown",
   "metadata": {},
   "source": [
    "The next step is to devide all our pdf contents into specific chunks."
   ]
  },
  {
   "cell_type": "code",
   "execution_count": 6,
   "metadata": {},
   "outputs": [],
   "source": [
    "from typing_extensions import Concatenate\n",
    "\n",
    "raw_text = \"\"\n",
    "for i, page in enumerate(pdfreader.pages):\n",
    "    content = page.extract_text()\n",
    "    if content:\n",
    "        raw_text += content"
   ]
  },
  {
   "cell_type": "code",
   "execution_count": 7,
   "metadata": {},
   "outputs": [
    {
     "data": {
      "text/plain": [
       "'BUDGET SPEECH 2017\\nMuch of what I am going to relate to the House this afternoon was written at the height of the raging snowstorm \\nthat descended upon B.C. earlier this month. From my desk on the second floor of my old Matsqui Prairie farmhouse, I watched the blizzard unfold. \\nI watched the snowdrifts grow slowly, imperceptibly at first, until eventually my barn, my garage, and my parents’ \\nhouse all disappeared behind a 12-foot-high wall of snow. Doors were blocked shut. We were boxed in and cut off.\\nIt occurred to me that budgets and finances can take on a similar dynamic. Without careful attention to spending \\nlevels and responsible revenue forecasting, the combined weight of the deficits and debt can accumulate like a prairie\\xa0snowdrift and eventually isolate an entire society from the choices it would like to make for its citizens. \\nDigging out from beneath the storm isn’t easy and, unlike snowdrifts, budget deficits don’t eventually melt on \\ntheir\\xa0own. \\nThis is the fifth time I’ve stood before the House to present the budget and, just like the first time, in a few short \\nmonths, British Columbians will convene an electoral shareholders’ meeting to consider not just the merits of this budget, but the progress we have made as a province under the stewardship of this government and this premier. \\nWhen I became finance minister back in the fall of 2012, the global economy was still recovering from what \\nwas probably the single biggest financial and economic downturn most of us have seen. While British Columbia weathered that storm better and recovered faster than others, we were still facing a projected deficit of $1.2 billion. \\nJust a few months later, in the face of deeply sceptical observers, our government tabled a budget that led to a \\nsurplus of $347 million in 2013. \\nAs a government, we promised to bring the provincial finances back into balance. We promised to repay the \\noperating debt we borrowed to protect core programs and services during the global economic slowdown. We\\xa0didn’t\\xa0promise it would be easy. In fact, it often meant making tough choices. \\nBut we made a commitment to look to the future of British Columbia by dedicating ourselves to prudent budgeting. \\nWe have worked to take B.C. away from feast-or-famine budgets in favour of steady, solid growth, and managed spending on the priorities of British Columbians. \\nBack in 2013, I stood before you and said we’d eliminate the deficit and reduce operating debt. We’ve done that. \\nDirect operating debt is now forecast to be $1.1 billion by the end the fiscal plan period  — the low est level since \\n1982-83. That also represents a 90% reduction since 2013-14 and means we have more than paid back what we \\nborrowed to finance operating deficits during the lean years. Within our reach is the possibility of eliminating our\\xa0operating debt entirely for the first time in 45 years. \\n2\\nBy any measure we are the envy of the nation. \\nWe said we’d manage spending growth and we have. Between 2005 and 2008, government \\nspending was growing by approximately 6% per year. In 2013, we vowed to continue the work to bend the cost curve while protecting priority programs, and over the past four years spending growth has averaged 1.8%. Spending growth is forecast to average 1.7% over the \\nnext\\xa0three -year\\xa0period. \\nAnd people can have confidence in these numbers. As Standard and Poor’s stated when they reaffirmed B.C.’s triple-A credit rating and stable outlook last April: “We find B.C.’s financial disclosures transparent, comprehensive, and timely. In our view, its financial management practices are the best among the Canadian provinces.”\\nWe promised to grow and diversify our economy, and we’ve made great progress. Back in 2013, \\nB.C. ranked fifth among provinces in terms of economic growth. In 2015, we led the provinces in \\neconomic growth. We’re forecast to have led again in 2016.  I believe this is the first time since the \\nearly 1960s we have led the country in economic growth two years running. And this year, again we are expected to be among the top performers. \\nWe’ve said we’d build it and we did. We’ve built schools, roads, health facilities and countless other \\nprojects. These are just some of the dividends that accrue to the people of British Columbia who have worked hard and continued their commitment to balanced budgets year after year. \\nAs I tabled that budget in 2013, I said we were standing “on the brink of delivering a series of \\nback-to-back surplus budgets.” We’ve kept that commitment, and today I’m pleased to present to\\xa0the House, for the fifth consecutive year, a balanced budget. \\nAt the conclusion of this three-year fiscal plan, if we keep our focus and our disciplined approach \\nto managing the public’s dollars, we will have delivered seven-straight balanced budgets. \\nA lot of careful planning and prudence has gone into achieving those budget surpluses, and \\nI\\xa0know British Columbians have worked hard to make this province as successful as it is today.\\nBut risks remain that could threaten that success. World markets are still in flux, resource prices \\nhave not yet recovered, and political changes in our neighbours to the south have us cautious about making too many assumptions about the future. \\nThat’s why we’re going to continue to stick to our plan of careful fiscal management, while making \\nmeasured investments to help individuals, families and communities prosper.\\nAnd the dividends of prosperity are not just about new program and service investments. It’s also \\nabout making sure British Columbians are able to keep more of their hard-earned money in their pockets. It’s about giving back.3The budgetary plan for 2017-18 anticipates:\\nTotal spending of   $50.2 billion\\nTotal revenues of   $50.8 billion\\nA forecast allowance of  $350 million\\nA budget surplus of   $295 million\\nWithin the fifth consecutive balanced budget we’re providing:\\n•\\talmost $3 billion over three years in enhanced programs and services.\\n•\\t$3.1 billion over three years in competitiveness and affordability measures.\\n•\\trecord levels of infrastructure investment, supporting more than 30,000 jobs.\\nAll while maintaining enviable debt affordability metrics and continuing to be on track to \\neliminate the operating debt.\\nAs I’ve done each year, I’ll begin by updating the current fiscal year to see how we’re doing since \\nthe last fiscal update in November. \\n3RD QUARTER UPDATE\\nMost indicators show that B.C. performed well compared to other provinces in 2016 and, as such, \\nan average of six private sector forecasters estimate that B.C. experienced the strongest growth in real GDP among provinces last year.\\nEmployment activity in B.C. was strong in 2016, growing by 3.2% or 73,300 jobs. That’s the \\nfastest annual pace this province has seen in almost 25 years.\\nConsumer spending was strong for the third consecutive year, and we have seen broad-based \\ngrowth in every segment of this province’s retail sector. \\nB.C. housing starts grew by 33.1% in 2016, reaching 41,843 units. That’s significantly higher \\nthan the historical average of 29,465 units, and it just shows how strong construction activity was\\xa0last year. \\nAfter a subdued first half of 2016, the value of B.C.’s international merchandise exports expanded \\nrapidly in the second half and is 9.8% higher in 2016 than it was in 2015.4\\nECONOMIC AND FISCAL OUTLOOK FOR 2017-21\\nI met with the independent Economic Forecast Council at the end of November, and the council \\nis projecting growth for B.C. as follows:\\n2017   2.3%\\n2018   2.2%\\n2019-21  2.1%\\nFor the purpose of the fiscal plan I am tabling today, the government is projecting B.C. economic growth of:\\n2017   2.1%\\n2018   2.1%\\n2019-21  2.0%\\nAs usual, our projections are slightly lower than the outlook provided by the Council, and that is one of the levels of prudence that helps keep spending within our means.\\nThis prudence acknowledges the downside risks to B.C.’s economic outlook, which include the \\npotential for a slowdown in North American economic activity, uncertainty associated with U.S. fiscal and trade policy, ongoing fragility in Europe, and slower than anticipated Asian demand, particularly in China.\\nDISCIPLINED FISCAL MANAGEMENT AND DEBT\\nOn the debt side, a balanced budget for the next three years with forecasted modest surpluses \\nwill\\xa0help us keep our debt affordable and reduce our operating debt.\\n2017-18  $295 million surplus\\n2018-19  $244 million surplus\\n2019-20  $223 million surplus\\nSuccessive balanced budgets mean we now have more flexibility to reduce the cost of government on taxpayers, as well as fund priorities. We’re going to continue to pay down the operating debt, and because we’ve worked hard to pay that debt, taxpayers will save more than half a billion dollars in interest costs over the fiscal plan period. To give you an idea, these savings are enough to cover the $512 million we paid for the new Surrey Memorial Hospital emergency department, with enough left over to pay for the new $52 million Oak Bay secondary school and the Highway\\xa099 “10-mile-slide” project near Lillooet. \\nIn fact, the three-year fiscal plan includes taxpayer-supported capital spending in the amount of \\n$13.7\\xa0billion  — the highest level ev er — reflecting inv estments in roads, schools, hospitals, and \\npublic safety. 5And we will continue to save for the future through the Prosperity Fund. With Budget 2016 we \\nmade an inaugural commitment of $100 million and then contributed a further $400\\xa0million from the 2016-17 surplus for a total investment of $500 million. \\nINVESTMENTS IN KEY PRIORITIES\\nWhat are our objectives in establishing and maintaining a firm fiscal foundation for B.C.? \\nBecause\\xa0it’s not actually about bragging about our triple-A credit rating. Though triple-A is \\nimportant  — we ar e the only province with triple-As. \\nThis is illustrated by comparing British Columbia to similar jurisdictions\\xa0in Canada that have lower credit ratings and, as such higher borrowing\\xa0costs. If British Columbia had the same public\\xa0debt charges as a percentage of revenue and credit rating as these jurisdictions, we would be paying\\xa0on average an additional $2.23\\xa0billion in annual debt service costs.\\nEven more important is staying focused on reducing the debt load confronting our children and \\ngrandchildren and ensuring that families today feel the benefits of a strong economy.\\nBritish Columbians work hard to provide for their families, and it can be difficult to make ends \\nmeet. We’ve heard time and again that British Columbians want some help from government to make everyday life more affordable. \\nWe have done well in this province, and that success is due to the hard work of British\\xa0Columbians \\nwho create businesses, work in industries, and build our vibrant communities. And\\xa0we believe that\\xa0citizens deserve to receive some dividends from our strong economy because they worked tirelessly to keep this province running during the tough times. \\nWith this budget, we are going to help British Columbians keep more of their hard-earned money, \\nwe’re going to invest in programs and services that make this province stronger, and we’re going to give a hand to those among us who need our help most. \\nSOCIAL INVESTMENTS\\nAs we give British Columbians more support, we’re going to begin with this province’s most \\nvulnerable. \\nAcross B.C., there is an army of dedicated men and women who work hard to provide services to \\nour most vulnerable citizens. They spend their careers trying to connect people with the services they need most. \\nIt’s very difficult to appreciate how demanding that job must be each and every day. Or how \\nrewarding. So let me begin by thanking all of the dedicated professionals who work on the front lines to deliver some of our most urgent programs to those most in need of a helping hand.6\\nToday, to help those front-line workers and our most vulnerable citizens, we’re going to provide \\nan additional $796 million for programs that support families, individuals, and children in\\xa0need, including $199 million over three years to fund a further increase to disability assistance of $600\\xa0per year in additional assistance for more than 100,000 British Columbians.\\nIn 2015, B.C. became the first province in Canada to fully exempt child-support payments for \\nfamilies receiving income assistance, which will benefit an estimated 3,300 families this year. In\\xa02016-17, we became only the second province to exempt Employment Insurance maternity and parental benefits from monthly income assistance. \\nBudget\\xa02017 will build on these significant changes and further support families receiving income \\nassistance by providing $8\\xa0million over three years to exempt additional child-related benefits  —  \\na\\xa0move that will assist approximately 600 families and 1,000 children per year. As well, funding for community living services, primarily through Community Living B.C., \\nwill\\xa0increase by $135 million over this fiscal plan to continue providing support for individuals with developmental disabilities and their families. \\nAnd building on the $217 million added in Budget 2016, the Ministry of Children and Family \\nDevelopment will receive an additional $287 million over the next three years for B.C.’s child welfare system and supports for children, youth and their families. This includes $120\\xa0million to\\xa0begin to address the recommendations of the Grand Chief Ed John Report on Indigenous Child Welfare. \\nIn his report, Grand Chief Ed John also recommended that we continue and expand the \\n“Parents\\xa0Legal Centre” pilot project delivered by the Legal Services Society  — a program that \\nprovides early intervention services for families facing child protection concerns. Budget\\xa02017 \\nresponds to this recommendation with $6\\xa0million to continue the successful legal aid services pilot projects. As\\xa0well, this budget provides $8.4 million in new funding over three years to begin\\xa0expanding these pilot projects, including a new Parents Legal Centre in Surrey. \\nTo increase accessibility of child care, $20\\xa0million of that investment in 2017-18 will support \\nthe creation of up to 2,000 new, additional, child care spaces. These spaces are in addition to government’s current goal of creating 13,000 new licensed child care spaces between 2014 and 2020, announced as part of the B.C. Early Years Strategy.\\nAs a society, we must do what we can to support those who need it most, and these measured \\ninvestments will help do that for many British Columbians in need. \\nEDUCATION\\nOver the years, I’ve occasionally been asked what I think is the single most important service \\ngovernment operates or funds. There are many… support for the disadvantaged and vulnerable, health care, public safety, and environmental protection are all crucial. 7But if I had to pick one, it would be education. Because education is about empowering the \\nindividual. It’s about providing a young person with tools for a lifetime. And we know this: on\\xa0average, the better trained and educated a person is, the healthier they will be because they\\xa0will\\xa0make better decisions for themselves and their family.\\nIt starts with your first days of school, when you begin to learn the fundamentals and receive \\nyour\\xa0first glimpse into what education can do for you.\\nEducation opens our minds. It expands our immediate world into the endless array of ideas the \\nworld has to offer. And of course, it opens the door to a wealth of opportunities that can lead students into a bright future.\\nIn 2013, the Education budget was $5.4 billion, and in this year’s budget we’re going to be \\ninvesting a record $5.9 billion. In fact, since I moved to the government side of this chamber back\\xa0in 2001, the per-student funding to school districts has increased by almost 50%, rising\\xa0from\\xa0$6,262 to almost $9,000 per student for 2016-17.\\nOverall, this fiscal plan will provide an additional $740 million over three years to the education \\nbudget. A portion of those additional funds will allow us to continue addressing pressures facing rural schools, and families who rely on busing to get their children to school. \\nIn rural areas, schools are the centre of the community. Keeping rural schools open was a concern \\nI heard from Krista in Kaleden, just south of Penticton, during the budget town hall discussions last month. As I told Krista, I grew up on a farm and attended the last one-room school in the district I lived in, so I have first-hand knowledge of the importance and influence rural schools have on a child’s future. \\nAnd for Krista, and all other British Columbians who are concerned about rural schools, I can \\nsay that this year government invested almost $2 million to help keep rural schools open and Budget 2017 is going to see another $9 million invested over three years to the Rural Education Enhancement Fund, which will help maintain these important education and community hubs in\\xa0our rural areas. \\nWe also know that in both rural and urban communities, just getting kids to school can be a \\nchallenge and a significant cost for busy, hardworking moms and dads. In an effort to make life just a little bit more affordable to parents, while providing safe and efficient bus services, Budget\\xa02017 confirms an additional $45 million over the next three years to eliminate fees and ensure virtually no one has to pay for school busing services. \\nAlso within that $740 million for the education budget, we’re providing $228 million to fund \\nenrolment growth in B.C. schools, funding for K-12 salary costs and $320 million over three\\xa0years while we work to conclude a final agreement with the BCTF on class size and composition. Negotiations are ongoing, and we will bargain in good faith to ensure stability continues in the education system. Any additional costs required will be addressed within the fiscal plan. 8\\nThis budget also includes $2 billion in capital spending over the next three years for schools. \\nThis\\xa0includes addressing significant enrolment growth in Surrey with $217 million for up to 5,200\\xa0new student seats. \\nADVANCED EDUCATION\\nFor most students, acquiring the tools they will need to succeed and prosper will take them from \\nour K-12 school system to one of our world-class post-secondary institutions.\\nWhether they are dreaming of becoming an electrical engineer, or an electrical contractor, an \\nurban transit design specialist, or a certified automotive mechanic, our objective remains the same — that every young person, irrespective of their family’s financial circumstances, should have the opportunity to make their dream a reality by having access to the vocational institution, college, or\\xa0university that will provide them with the education and skills training they require. \\nThat was our intent back in 2007, when we announced that we would be providing $1,000 for \\nB.C. children to use toward their education. \\nIn 2013, I announced we were increasing that amount to $1,200 through the B.C. T raining \\nand\\xa0Education Savings Grant program. Last year we extended that commitment to children born in 2006. \\nMany parents jumped at the chance to begin saving, and the first recipients of that 2007 \\ncommitment are now only six years away from accessing their funds for training. \\nBut on the whole, only about two-thirds of eligible children have RESPs to take advantage of this \\nopportunity. This program is a real boost to the future, and it’s our hope that more parents will take advantage of this program to help ease their children’s path. \\nAnd for those students who have to supplement those savings with student loans, there comes the \\ntime when studies are complete and the loan that society provides  — interest and payment fr ee \\nwhile the student is in school  — needs to be repaid. I n Budget 2017, we’re going to help make that \\nprocess easier by lowering the interest rate on student loans from prime-plus-2.5% to just prime, \\neffective August 1, 2017. \\nSo, for example, with prime at 2.7% right now, those in repayment would have to pay 5.2% \\ntoday. After August 1, they will just pay that prime amount. This measure will save people in repayment $11.3 million this year and $17 million in each of the next two years. \\nIn this wired world, we have to make sure our post-secondary institutions are up to the task. \\nThat’s why Budget 2017 provides almost $3 million annually over three years to allow B.C. post-secondary institutions to transition their sites to the BCNET advanced network. It means institutions in areas across B.C. will have more secure, faster connectivity and will improve interconnections with other institutions across the province. 9Budget 2017 also includes $2.6 billion in capital spending by post-secondary institutions for \\nnew buildings and renewal of infrastructure at campuses across the province. That includes $71.2\\xa0million of capital investments on rural campuses including North Island College in Campbell River, Northwest Community College in Terrace, Northern Lights College in Dawson\\xa0Creek, and Okanagan College’s Vernon Campus. \\nHEALTH CARE\\nIn the time that I have occupied a seat in this chamber, we have seen the budget for health care \\nincrease from $6.4 billion in 1994-95 to just shy of $20 billion by the end of this fiscal plan. \\nWe spend a lot on health care, and we should. We have a growing population, and demographic \\nshifts that also mean we have an aging population. All these factors mean increased pressures on our health care system, and we need to rise to the challenge to meet those pressures. \\nBut it’s not easy. And it’s certainly not free. This year, government will devote 41% of its budget to health care. In fact, according to the \\nCanadian Institute for Health Information, B.C. spends $4,050 per person each year on health care and is the third most efficient of all the provinces. \\nCapital spending on infrastructure in the health sector will total $2.7\\xa0billion over the next \\nthree years for new major construction projects and upgrading of health facilities, medical and diagnostic equipment, operating rooms and information management/technology systems. \\nThat includes the $417 million Royal Inland Hospital Patient Tower in Kamloops, two new \\nhospitals on Vancouver Island (one in the Courtenay/Comox and one in Campbell River), and\\xa0a new patient care tower, including a surgical services centre, at Penticton Regional Hospital. Budget\\xa02017 also confirms our commitment to ongoing funding for Canuck Place Children’s Hospice. \\nIt has never been clearer that mental health challenges, which are inextricably linked with \\naddiction issues, require more resources. The evidence indicates that if problems can be addressed in the earlier years of our lives, there is a greater likelihood of avoiding the negative consequences later on. Therefore this budget adds $165\\xa0million that will go primarily for youth mental health needs and to address associated substance use issues, including: \\n•\\t$45\\xa0million for the Ministry of Children and Families to provide resources to allow for more mental health counselling and treatment for children.\\n•\\t$12\\xa0million for the Ministry of Health to provide up to 28 highly specialized addiction treatment beds for youth.\\n•\\t$5 million in startup costs for the new B.C. Centre on Substance Use, headed up by the respected\\xa0Dr. Evan Wood, and that includes an additional $2\\xa0million annually for operating costs, largely for clinical research in support of evidence-based addiction treatments.10\\n•\\t$10\\xa0million in 2017-18 to reduce wait lists for substance use treatment services \\nincremental to those provided by the Health Authorities.\\n•\\t$65 million over two years for the acquisition and renovation of buildings to house some of our most vulnerable, including those with mental health and substance use issues. \\nIn addition to all of this, we’ve now secured an agreement with the federal government to invest an additional $1.4 billion over the next 10 years to improve home care and to support mental health initiatives. That amount is not reflected in the budget but will be included in the next budget update.\\nSo we have to strike a balance. We have to continue funding this growing health care system. \\nBut\\xa0we also need to do it in a way that helps make life more affordable for British Columbians. \\nAnd that is where we come to the power of fiscal balance and the advantages of budgetary \\nsurpluses. We’ve had a conversation in B.C. that can’t be had virtually anywhere else in Canada: What to do with that surplus. \\nFor a few, the answer is simply to spend more. Many more people, however, offer this analysis: \\nWe’re glad you’re balancing our budget, but if you’re posting regular surpluses, maybe it’s because you’re taking too much money from us. We don’t want you to grow government. We want you to give some of our money back or leave it with us in the first place. \\nELIMINATING MSP\\nAnd that is an approach we intend to take with Budget 2017.\\nIt’s a principle our government acted upon boldly in 2001, with a 25% personal income tax cut. \\nIt’s a principle we endorsed in 2005, with the B.C. Tax Reduction credit. And in 2007, with a 10% income tax cut. \\nIt’s the principle behind the Revenue Neutral Carbon Tax, vigorously opposed by some members \\nof this assembly, which since 2008 has allowed for personal income tax cuts, general corporate and small business income tax cuts, and other personal and business tax measures that have made life a little more affordable, and B.C. more competitive and attractive to new jobs and investment. \\nIt’s an approach that allows us to state with pride that British Columbians earning $125,000 per\\xa0year \\nor less pay the lowest provincial personal income tax anywhere in Canada.\\n$2,819 per year less than in Ontario. $8,645 less than in Quebec.And yet, each time I repeat that fact or each time it is written, commentators feel compelled \\nto attach a footnote. For they point out, correctly, that unlike those provinces and others, B.C.\\xa0continues to collect a separate mandatory fee for medical services premiums. 11For an individual earning $120,000, the cost is presently $75 per month. $900 per year.  For a \\nfamily earning an equivalent amount, it doubles to a maximum of $1,800 per year. In recognizing the burden this represents for many middle-income families, we have endeavoured to provide some relief. \\nToday, as a result of the improvements made in last year’s budget, approximately 40% of B.C. \\nfamilies are paying reduced MSP premiums or no premiums at all. In fact, now that MSP premiums no longer apply to children, an estimated two million British Columbians currently pay no premiums whatsoever.\\nHowever, with Budget 2017 we intend to go further. Today, I can announce government’s \\nintention to move toward the elimination of MSP premiums. \\nWe are taking this first significant step, not by raising taxes elsewhere, but by drawing upon the \\nbenefits of having Canada’s strongest economy and the budgetary surpluses we have achieved.\\nAs a first step, starting this fiscal year, on January 1, 2018, we’re going to roll back most premiums \\nto about the levels that were set in 1993. This will be done by cutting premiums in half for families and individuals with family net income of up to $120,000 per year.\\nFor a family paying full premiums, this represents a saving of $900 per year. As a result, in addition to the estimated two million people who pay no premiums, a further \\ntwo\\xa0million British Columbians will see their premiums cut in half.\\nA single parent earning up to $40,000 with two children will see their monthly premium drop \\nfrom $46 to $23.\\nA family earning less than $35,000 with two children will not pay premiums. \\nAs I indicated, this represents a first step  — and while those earning abov e $120,000 will continue \\nto pay premiums at the current, frozen rate  — our objective o ver time is to completely eliminate \\nMSP as an expense for British Columbians. The timing and structure of that next step will depend \\non the Province’s fiscal capacity in the future.\\nDrawing on the dividend afforded by our leading economy, we can leave more money in the \\npockets of B.C. families and ensure we have a health care system that is there when people need it and provides the quality of service that British Columbians expect. \\nAFFORDABLE HOUSING\\nWhen British Columbians are asked about the cost of living pressures they face, many will \\nimmediately focus on the cost of housing – and that is certainly the case in certain parts of B.C. 12\\nThe problems with housing affordability and availability aren’t easy to resolve, but there are some \\nlevers that government can use to help ease things. We can help make things a little easier for current home owners, and we can help more people enter the market. \\nAnd we’ve done that, but I’ve cautioned before and I’ll say it again: we can’t just focus on getting \\nmore people into the market. On its own, without adding to the supply, that’s just going to drive prices higher. And it won’t help those who by choice or necessity are seeking rental housing. \\nThe key to improving housing affordability over the longer term is to create new supply, and \\nthis government’s housing action plan includes a number of measures designed to stimulate new housing supply, assist buyers, invest in affordable housing and improve our understanding of what drives growth in B.C.’s real estate sector. \\nThat’s why we committed over this past year $920 million to support the creation of almost \\n5,300\\xa0new units of affordable housing to help a wide variety of people across the province. Along\\xa0with the B.C. Home Partnership Program, which helps an estimated 42,000 B.C. households enter the market for the first time, this represents the single largest direct investment in housing affordability in B.C. history. \\nThis will complement other actions we’ve taken such as the introduction last year of a Newly Built \\nHome exemption to the property transfer tax, which has helped nearly 5,500 families save an average of $7,600. In Budget 2017 we are going further and raising the threshold of the First Time Home Buyers’ Program exemption to $500,000, saving first-time home buyers up to $8,000.\\nIn the coming year, the government will also explore and implement opportunities to partner and \\ninvest with local governments to help ensure cities and municipalities have the capacity, incentives and performance targets needed to expedite the processing, approvals and permitting of housing development applications. \\nHomes must be available to British Columbians. They must be affordable. And they must be \\naccessible to all British Columbians. We are resolved to increase the accessibility of homes and public buildings for all British Columbians. That’s why we intend to enter into a partnership with the Rick Hansen Foundation to develop an accessibility certification program, which will rate, recognize, and promote accessibility in our built environment. \\nJust as B.C. has become a leading innovator in environmental building design thanks to our \\napplication of the Leadership in Energy and Environmental Design program, we are also seeking to become an innovator and leading example of building designs that ensure all citizens are able to access buildings to the fullest extent throughout their lives. \\nThe pressures we have seen develop in the housing market are a direct result of the growing \\ndemand to live in B.C. British Columbians want to stay here, and other Canadians want to come\\xa0here. They want to stay here and they want to come here because they see hope, promise and opportunity unmatched anywhere else in Canada. 13BUILDING A STRONG ECONOMY\\nWe’ve worked hard to create a strong economy  — one that pro vides jobs and opportunities for \\nBritish Columbians. We’ve done that work because a strong economy is the foundation upon \\nwhich we can build everything else. And we’ve done well.\\nFor the first time in over half a century we can boast of having led the country in economic \\ngrowth for two years running. I always urge caution when we’re speaking about the economy because as I said earlier, we can’t forget that there continue to be risks that could erode our strong economic position. \\nWe need to ensure our tax structure remains competitive to promote continued investment and \\njob creation and not ignore changes that are implemented elsewhere by jurisdictions that compete with us for investment. We need to acknowledge we live in a world where economies continue to be fragile and unpredictable.\\nAnd of course, something we’ve been hearing a great deal about in the news lately, we need \\nto recognize and resolutely confront the protectionist winds gathering force globally and, more\\xa0particularly, to our immediate south with our largest trading partner. \\nHELPING BUSINESSES FACE PROTECTIONISM\\nWe have a diverse economy and a diverse portfolio of customers, not just in Canada and \\nNorth\\xa0America, but around the world. It’s something we’ve applied ourselves to purposefully and in partnership with the private sector. \\nBack in 2001, 70% of our merchandise exports went to the United States. Today, as a result of \\ndeveloping new products and new markets, that number has reduced to 54%. \\nCompare that to Ontario at 81% or Alberta at 86%. But make no mistake, the U.S. remains our \\nlargest single trading partner, and any interruption in that trade will impact us. Our successful efforts at diversification won’t completely insulate us from these protectionist tendencies, but they will certainly help. \\nDiversified markets will help us ensure the continued success of our cornerstone forest industry. \\nMore than 140 communities in B.C. rely upon our forest sector. And those communities have led the way in trade diversification. Between 2003 and 2016, we have seen a more than 2000% increase in B.C. softwood lumber exports to China. \\nToday’s budget includes the resources necessary to continue expanding our markets in Asia and \\nIndia for our forest products, ensuring that we will not be as vulnerable as we were, 15 years ago the last time we saw this protectionist movie.14\\nBut, in addition to this work, let me assure the House that the forces of protectionism shall not \\ngo unchallenged. In 2016, B.C. accounted for 61% of Canada’s $7.5 billion softwood lumber trade with the U.S. That’s why the Premier and the government will continue to work closely with Prime Minister T rudeau and Global Affairs Minister Freeland. That’s why we’ve emphasized our belief that as a trade issue, this should be number one in terms of priorities. It’s why we’ve appointed David Emerson as B.C.’s special envoy on the softwood lumber trade issue.\\nI’ve noticed something about this free-trade-versus-protectionism debate. Those of us who actually \\noppose trade barriers and support agreements like NAFTA tend to talk about the advantages of free trade exclusively from the perspective of Canada, and in our case, British Columbia. But\\xa0what’s often overlooked is that there are millions of Americans who rely upon trade with Canada for their jobs.\\nAnd though it’s not our job to speak on their behalf, perhaps it’s time someone did. Perhaps it’s \\ntime someone started pointing out the price they will pay  — that small-town America will pay  —  \\nif\\xa0barriers are erected at our border. Never mind the price American consumers will pay  — people \\nwho want to buy their own home  — when the price of those homes goes up because of tariffs and \\nbarriers placed on the products needed to build those homes. We in B.C. have a role to play, and we will continue to work with state governments in the \\nPacific Northwest to build ties and positive, constructive relationships across our borders. It was that long-standing goodwill that led to B.C. and Alaska signing a Statement of Cooperation on the Protection of T ransboundary Waters to protect and enhance the shared environment for the benefit of both jurisdictions. \\nAnd we will need to draw on all of that goodwill if we are to successfully negotiate an extension \\nto the Columbia River T reaty  — the trans-boundary water-management agr eement between \\nthe United States and Canada. Under this agreement, we’re working together to improve flood \\nmanagement and power generation for the Columbia River and Kootenay River on both sides of the border. The agreement has generated (pardon the pun) benefits on both sides of the border and is a shining example of what can be accomplished when our discussions and negotiation are guided by fairness and mutual respect. \\nDIVERSIFYING OUR MARKETS\\nSo, we’re going to keep working to fortify relationships with our neighbours to the south, \\ndespite\\xa0the rhetoric we’re currently hearing, but we will also continue to seek out new markets.\\nAs a province, we have worked hard to diversify our markets and in doing that, we’ve strengthened \\nties with countries such as China, Malaysia, Indonesia, Philippines, India and Japan. \\nPromoting trade and investment is critical to growing our economy in B.C. and creating the \\njobs that British Columbians depend on. There’s a tremendous amount of potential to attract investment across the globe, and we are beginning to see some of the real benefits of these relationships.15In fact, we’re opening our third trade and investment representative office in Southeast Asia. \\nOur new office in Johor Bahru, Malaysia, right next door to Singapore, will work alongside our offices in Manila, Philippines, and Jakarta, Indonesia, to take advantage of the growing business opportunities in this region. Budget 2017 provides $1.7 million annually to support the operations of these new offices. \\nAs a priority initiative for 2017, we intend to enter into a partnership with the Vancouver Board \\nof T rade that will include financial support for a unique trade acceleration program to help build B.C.’s export capacity by training small- and medium-sized enterprises across B.C. to better access export markets.\\nHELPING BUSINESSES BE COMPETITIVE\\nAnd while we actively pursue those new markets abroad, we are going to do what we can here \\nat home to ensure that our businesses are competitive. When we conducted the Commission on Tax\\xa0Competitiveness, one of the areas we heard a lot about was the provincial sales tax charged on\\xa0electricity.\\nHere’s what three prominent leaders of B.C. trade unions had to say: “Put simply, charging the \\nPST on electricity is an outdated and uncompetitive tax measure that should be removed in the 2017 provincial budget when it is delivered in February.”\\nWe take these comments and the results of the commission seriously because we want to ensure \\nB.C.’s businesses, large and small, are able to compete, and we also want to encourage businesses to use clean, renewable hydroelectricity over other more carbon-intensive fuels. \\nSo starting October 1, 2017, we’re going to phase out the PST on electricity starting with \\na reduction to 3.5% of the purchase price and moving to full exemption on April 1, 2019. \\nGovernment will forego more than $160 million in revenue  — money that will be available for \\nreinvestment, expansion and job creation. \\nAnd finally, Budget 2017 will forego $213 million in revenue over three years to reduce the \\nsmall\\xa0business tax rate from 2.5% to 2% effective April 1, 2017, which means that B.C. will have the second lowest small business tax rate in the country. \\nSUPPORTING A RURAL ECONOMY\\nBy growing the talent and business resources in all parts of British Columbia, we all succeed.\\nOur rural communities and the economic activity they support are a huge part of what makes this \\nprovince such a powerful economic engine. 16\\nIt’s important to us, which is why this government works hard to support vibrant and healthy \\nrural communities that attract businesses and individuals, and Budget 2017 will add to this work with:\\n•\\t$40 million to support our goal of 100% high-speed internet connectivity for all British\\xa0Columbians before 2021.\\n•\\t$25 million to continue the B.C. Rural Dividend program into 2019-20 to help reinvigorate and diversify rural communities with a population of 25,000 or less.\\n•\\tProviding a $3,000 tax credit for volunteer firefighters and search and rescue volunteers as a way to acknowledge and give back to this vital source of community safety. \\n•\\tProviding an additional $5 million each year to the Community Gaming Grant program, bringing the annual total to $140 million to support not-for-profit organizations in the services they provide to enrich communities throughout B.C.\\nAnd to help keep both urban and rural communities safe, we will invest an additional $23\\xa0million over the next three years for the Province’s expanded Guns and Gangs Strategy and community safety initiatives. This will continue funding for two additional anti-gang police units and dedicated prosecutors to prioritize cases linked to gangs and organized crime.\\nFIRST NATIONS\\nOver the last five years, B.C. has achieved nearly 400 economic agreements with First Nations. \\nThese agreements brought $63 million in benefits to those communities in the last year alone. \\nWe are proud of these economic agreements, not just because First Nations communities are \\nfoundational, and not just because they benefit so many of these communities. We are also proud of these agreements because as First Nations benefit and see success, we all achieve success. And\\xa0as our economy grows and our population ages, we need to ensure that young aboriginal British\\xa0Columbians have access to the same educational, training and employment opportunities as every other British Columbian.\\nAccordingly, Budget 2017 provides additional resources to the Ministry of Aboriginal Relations \\nand Reconciliation and other ministries to facilitate this work and ensure that the benefits of a strong economy are shared with all communities and all citizens, including B.C.’s First Peoples. We do so not just because it’s the right thing to do, but because now, more than ever, it’s essential if our province and country are to achieve our fullest potential. \\nDIVERSIFYING OUR INDUSTRIES\\nThe diversification of our domestic economy has contributed greatly to our economic strength. \\nTo promote continued growth in exciting new areas, Budget 2017 includes funding for strategic investments in priority sectors. 17B.C.’s aerospace sector is growing and now generates about $2.5 billion in revenue annually, and \\nemploys almost 9,000 British Columbians. Budget 2017 continues the $5 million over five\\xa0years… first announced in Budget 2014… to develop and grow B.C.’s aerospace industry in partnership with the Aerospace Industries Association of Canada Pacific.\\nBudget 2017 also includes ongoing funding to maintain and grow our partnership with the \\nVancouver International Maritime Centre as we seek to draw more shipping companies, and their \\nhead offices, to Vancouver  — creating long-term, high-paying jobs while fur ther building that \\ngateway between North America and Asia.\\nAnd effective for 2017 and subsequent years, the budget for the small business venture capital \\ntax credit will increase from $35 million to $38.5 million. This allows for up to $11.7\\xa0million in\\xa0additional equity financing for qualifying corporations annually.\\nAnd let’s not forget B.C.’s tech sector, which has seen growth for the sixth year in a row, employs \\nmore than 100,000 British Columbians, and contributed $14.1 billion to B.C.’s overall economic output in 2015. Last year, this government launched the B.C. Tech Strategy. It’s a strategy that will continue to help grow this vibrant sector, and Budget 2017 adds an additional $87\\xa0million toward B.C.’s tech strategy. Specific details on how we’ll allocate this funding will be released at the Tech Summit in March.\\nAnd we will be extending and enhancing sector tax credits for Scientific Research and \\nExperimental Development, venture capital to support innovation, commercialization, and the\\xa0tech sector.\\nENSURING A HEALTHY ENVIRONMENT\\nDeveloping this province isn’t just about using our resources wisely to boost our economy. \\nIt’s\\xa0about protecting those resources and ensuring that this province’s natural beauty is protected for future generations. There is something uniquely British Columbian about the relationship we\\xa0have with this super, natural province we call home.\\nWe all benefit from the beauty of this province, and from our world-renowned provincial parks \\nsystem. \\nAnd as we benefit today, we’re also going to make sure future generations are equally able to enjoy \\nthe beauty these parks have to offer. That’s why Budget 2017 adds $26 million over three years in base funding for the B.C. Parks Future Strategy. In this strategy, government is adding:\\n•\\tnew park rangers throughout the province, with a particular focus on protecting and preserving the backcountry.\\n•\\tnew programs to promote and protect the environment.\\n•\\tmore than 1,900 new campsites to help meet growing demand.18\\nThis budget also provides funding of $9 million over three years to the Ministry of Forests, Lands \\nand Natural Resource Operations to support the implementation of the Forest Carbon Initiative, a suite of activities under B.C.’s Climate Leadership Plan designed to reduce carbon emissions in the forest sector and capture carbon through restoration of damaged forests. This is in addition to enhanced reforestation work and the one-time funding of $150 million provided to the Forest Enhancement Society of British Columbia to support forest rehabilitation initiatives.\\nWoodland caribou populations across B.C. continue to decline, and in support of the ongoing \\nefforts to help this vulnerable population of ungulates  — and particularly to pr otect critical habitat \\nof woodland caribou  — Budget 2017 includes $27 million to support an enhanced provincial \\ncaribou recovery program to ensure caribou maintain self-sustaining populations.And as we speak of supporting the welfare of animals, let’s recognize the hard work done by \\nthe\\xa0B.C. SPCA to support animals in this province. The B.C. SPCA provides vital services for animal welfare, and as a government, we recognize the value of this work. That’s why I can confirm the additional $5 million in funding in 2016-17 to support the B.C. SPCA’s eight-year Facilities Development and Service Plan to replace or renovate aging shelters, keeping vulnerable animals safe. \\nCONCLUSION\\nIt was not that long ago that the world descended into recessionary chaos. And while others \\ncontinue to struggle, we in B.C. have come such a long way and, together, we have accomplished so much to be proud of. \\nIt takes a lot of hard work to dig yourself out after a storm and find your path forward again. But we’ve done it and it’s worth it. Re-establishing ourselves as Canada’s economic leader with the strongest fiscal position is worth it \\nbecause it means choices… choices that other parts of Canada don’t have and won’t have for years or even decades:\\n1. The choice to fund the services our citizens depend upon without running deficits for our children and grandchildren to inherit.\\n2. The choice to invest in schools, hospitals and highways at record levels.\\n3. And, remarkably, the ability to accomplish both of those objectives and still make the choice to leave B.C. families with significantly more money in their pockets to make their own choices. 19This really is the people’s budget… made possible by the people’s hard work and belief in our \\nprovince.\\nAnd if it is true that we have always been the envy of the nation for our geographic splendour and \\nmeteorological advantages, then it is equally true that today we are the fiscal and economic envy of every province in Canada. \\nThis is our time to lead Canada into the future and the opportunities that lay before us coupled \\nwith the strengths, ingenuity and talents of British Columbians means that future has never looked brighter. '"
      ]
     },
     "execution_count": 7,
     "metadata": {},
     "output_type": "execute_result"
    }
   ],
   "source": [
    "raw_text"
   ]
  },
  {
   "cell_type": "markdown",
   "metadata": {},
   "source": [
    "Now we need to initialize the connection to database"
   ]
  },
  {
   "cell_type": "code",
   "execution_count": 8,
   "metadata": {},
   "outputs": [],
   "source": [
    "cassio.init(token=ASTRA_DB_APPLICATION_TOKEN, database_id=ASTRA_DB_ID)"
   ]
  },
  {
   "cell_type": "markdown",
   "metadata": {},
   "source": [
    "Create the ALngchain embeddings and LLM objects"
   ]
  },
  {
   "cell_type": "code",
   "execution_count": 9,
   "metadata": {},
   "outputs": [
    {
     "name": "stderr",
     "output_type": "stream",
     "text": [
      "c:\\Users\\mahsa\\Langchain\\venv\\lib\\site-packages\\langchain_core\\_api\\deprecation.py:117: LangChainDeprecationWarning: The class `langchain_community.llms.openai.OpenAI` was deprecated in langchain-community 0.0.10 and will be removed in 0.2.0. An updated version of the class exists in the langchain-openai package and should be used instead. To use it run `pip install -U langchain-openai` and import as `from langchain_openai import OpenAI`.\n",
      "  warn_deprecated(\n",
      "c:\\Users\\mahsa\\Langchain\\venv\\lib\\site-packages\\langchain_core\\_api\\deprecation.py:117: LangChainDeprecationWarning: The class `langchain_community.embeddings.openai.OpenAIEmbeddings` was deprecated in langchain-community 0.1.0 and will be removed in 0.2.0. An updated version of the class exists in the langchain-openai package and should be used instead. To use it run `pip install -U langchain-openai` and import as `from langchain_openai import OpenAIEmbeddings`.\n",
      "  warn_deprecated(\n"
     ]
    }
   ],
   "source": [
    "llm = OpenAI(openai_api_key=OPENAI_API_KEY)\n",
    "embedding = OpenAIEmbeddings(openai_api_key=OPENAI_API_KEY)"
   ]
  },
  {
   "cell_type": "markdown",
   "metadata": {},
   "source": [
    "# Create LangChain Vector Store"
   ]
  },
  {
   "cell_type": "markdown",
   "metadata": {},
   "source": [
    "Now we need to create our vectore database. For that we need to initialize Cassandra. It converts all of the text using the embedding (that we initialized at the top cell) into vectors."
   ]
  },
  {
   "cell_type": "code",
   "execution_count": 10,
   "metadata": {},
   "outputs": [],
   "source": [
    "astra_vector_store = Cassandra(\n",
    "    embedding=embedding,\n",
    "    table_name=\"qa_demo\",\n",
    "    session=None,\n",
    "    keyspace=None\n",
    ")"
   ]
  },
  {
   "cell_type": "markdown",
   "metadata": {},
   "source": [
    "Still we haven't covert text to vectors. We need to push data inside DB."
   ]
  },
  {
   "cell_type": "code",
   "execution_count": 11,
   "metadata": {},
   "outputs": [],
   "source": [
    "from langchain.text_splitter import CharacterTextSplitter\n",
    "\n",
    "# LLM models have a maximum token limit for the text they can process in one go. \n",
    "# We need to Split the text such that it should not increase the token limit.\n",
    "text_splitter = CharacterTextSplitter(\n",
    "    separator= \"\\n\",\n",
    "    chunk_size = 800,\n",
    "    chunk_overlap = 200,\n",
    "    length_function = len\n",
    ")\n",
    "\n",
    "texts = text_splitter.split_text(raw_text)"
   ]
  },
  {
   "cell_type": "code",
   "execution_count": 13,
   "metadata": {},
   "outputs": [
    {
     "data": {
      "text/plain": [
       "['BUDGET SPEECH 2017\\nMuch of what I am going to relate to the House this afternoon was written at the height of the raging snowstorm \\nthat descended upon B.C. earlier this month. From my desk on the second floor of my old Matsqui Prairie farmhouse, I watched the blizzard unfold. \\nI watched the snowdrifts grow slowly, imperceptibly at first, until eventually my barn, my garage, and my parents’ \\nhouse all disappeared behind a 12-foot-high wall of snow. Doors were blocked shut. We were boxed in and cut off.\\nIt occurred to me that budgets and finances can take on a similar dynamic. Without careful attention to spending']"
      ]
     },
     "execution_count": 13,
     "metadata": {},
     "output_type": "execute_result"
    }
   ],
   "source": [
    "texts[:1]"
   ]
  },
  {
   "cell_type": "markdown",
   "metadata": {},
   "source": [
    "# Load dataset into the vector store"
   ]
  },
  {
   "cell_type": "markdown",
   "metadata": {},
   "source": [
    "Adding text, generating embeddings and inserting them inot Astra DB."
   ]
  },
  {
   "cell_type": "code",
   "execution_count": 15,
   "metadata": {},
   "outputs": [
    {
     "name": "stdout",
     "output_type": "stream",
     "text": [
      "Inserted 50 headlines.\n"
     ]
    }
   ],
   "source": [
    "astra_vector_store.add_texts(texts[:50])\n",
    "\n",
    "print(\"Inserted %i headlines.\" %len(texts[:50]))"
   ]
  },
  {
   "cell_type": "markdown",
   "metadata": {},
   "source": [
    "wrap the entries inside the wrapper -> index w.r.t. text"
   ]
  },
  {
   "cell_type": "code",
   "execution_count": 19,
   "metadata": {},
   "outputs": [],
   "source": [
    "\n",
    "astra_vector_index = VectorStoreIndexWrapper(vectorstore=astra_vector_store)"
   ]
  },
  {
   "cell_type": "markdown",
   "metadata": {},
   "source": [
    "# Run QA"
   ]
  },
  {
   "cell_type": "markdown",
   "metadata": {},
   "source": [
    "Two question examples from the pdf \"BudgetSpeech_2017.pdf\":\n",
    "\\\n",
    "Question1: what is the rank of B.C. among other provinces in terms of economic groth?\\\n",
    "Question2: what does Grand Chief Ed John recommended?"
   ]
  },
  {
   "cell_type": "code",
   "execution_count": 24,
   "metadata": {},
   "outputs": [
    {
     "name": "stdout",
     "output_type": "stream",
     "text": [
      "\n",
      "QUESTION: \"what does Grand Chief Ed John recommended?\"\n",
      "\n",
      "ANSWER: \"He recommended that we continue and expand the \"Parents Legal Centre\" pilot project delivered by the Legal Services Society to provide early intervention services for families facing child protection concerns.\"\n",
      "\n",
      "First Documents by Relevance:\n",
      "    [0.9098] \"In his report, Grand Chief Ed John also recommended that we continue and expand the \n",
      "“Parents Legal  ...\"\n",
      "    [0.9098] \"In his report, Grand Chief Ed John also recommended that we continue and expand the \n",
      "“Parents Legal  ...\"\n",
      "    [0.9045] \"a move that will assist approximately 600 families and 1,000 children per year. As well, funding for ...\"\n",
      "    [0.9045] \"a move that will assist approximately 600 families and 1,000 children per year. As well, funding for ...\"\n"
     ]
    },
    {
     "ename": "",
     "evalue": "",
     "output_type": "error",
     "traceback": [
      "\u001b[1;31mThe Kernel crashed while executing code in the the current cell or a previous cell. Please review the code in the cell(s) to identify a possible cause of the failure. Click <a href='https://aka.ms/vscodeJupyterKernelCrash'>here</a> for more info. View Jupyter <a href='command:jupyter.viewOutput'>log</a> for further details."
     ]
    }
   ],
   "source": [
    "first_question = True\n",
    "while True:\n",
    "    if first_question:\n",
    "        query_text = input(\"\\nEnter your question or type 'quit' to exit: \").strip()\n",
    "    else:\n",
    "        query_text = input(\"\\nEnter your next question or type 'quit' to exit: \").strip()\n",
    "\n",
    "    if query_text.lower() == \"quit\":\n",
    "        break\n",
    "    if query_text == \"\":\n",
    "        continue\n",
    "\n",
    "    first_question = False\n",
    "\n",
    "    print(\"\\nQUESTION: \\\"%s\\\"\" % query_text)\n",
    "    answer = astra_vector_index.query(query_text, llm = llm).strip()\n",
    "    print(\"\\nANSWER: \\\"%s\\\"\\n\" % answer)\n",
    "\n",
    "    print(\"First Documents by Relevance:\")\n",
    "    for doc, score in astra_vector_store.similarity_search_with_score(query_text, k=4):\n",
    "        print(\"    [%0.4f] \\\"%s ...\\\"\" % (score, doc.page_content[:100]))   #100 is number of characters we want to print out as answer\n",
    "\n"
   ]
  },
  {
   "cell_type": "code",
   "execution_count": null,
   "metadata": {},
   "outputs": [],
   "source": []
  }
 ],
 "metadata": {
  "kernelspec": {
   "display_name": "Python 3",
   "language": "python",
   "name": "python3"
  },
  "language_info": {
   "codemirror_mode": {
    "name": "ipython",
    "version": 3
   },
   "file_extension": ".py",
   "mimetype": "text/x-python",
   "name": "python",
   "nbconvert_exporter": "python",
   "pygments_lexer": "ipython3",
   "version": "3.9.0"
  }
 },
 "nbformat": 4,
 "nbformat_minor": 2
}
